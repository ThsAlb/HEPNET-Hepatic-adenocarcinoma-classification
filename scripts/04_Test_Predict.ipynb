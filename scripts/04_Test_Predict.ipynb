{
 "cells": [
  {
   "cell_type": "code",
   "execution_count": null,
   "id": "acute-scholarship",
   "metadata": {},
   "outputs": [],
   "source": [
    "'''\n",
    "Purpose:\n",
    "To evaluate the final model on the test cohort\n",
    "'''"
   ]
  },
  {
   "cell_type": "code",
   "execution_count": null,
   "id": "graphic-element",
   "metadata": {},
   "outputs": [],
   "source": [
    "## Import all required libraries\n",
    "import numpy as np\n",
    "import os \n",
    "import pandas as pd\n",
    "import tensorflow as tf\n",
    "import ast\n",
    "import matplotlib.pyplot as plt\n",
    "import scikitplot as skplt\n",
    "from numpy import savetxt, loadtxt\n",
    "from tensorflow import keras\n",
    "from tensorflow.keras.applications.efficientnet import preprocess_input\n",
    "from tensorflow.keras.preprocessing.image import ImageDataGenerator\n",
    "from tensorflow.keras.applications import EfficientNetB3\n",
    "from tensorflow.keras.callbacks import EarlyStopping, ModelCheckpoint\n",
    "from tensorflow.keras import layers\n",
    "from sklearn.metrics import roc_curve, auc\n",
    "from sklearn.utils import resample"
   ]
  },
  {
   "cell_type": "code",
   "execution_count": null,
   "id": "understanding-semester",
   "metadata": {},
   "outputs": [],
   "source": [
    "## Set current working directory (source for image tiles)\n",
    "os.chdir(\"/media/data/Projects/ICCAVSMETS\")"
   ]
  },
  {
   "cell_type": "code",
   "execution_count": null,
   "id": "cooperative-helicopter",
   "metadata": {},
   "outputs": [],
   "source": [
    "## Set project directory (model-relevant and processed data)\n",
    "SSDDir = '/home/thomas/Projects/ICCAvsMETS'\n",
    "model_dir = SSDDir + '/saved_models/Training'\n",
    "test_dir = SSDDir + '/saved_models/CrossValidation'\n",
    "FiguresDir = SSDDir+'/Figures/InternalTest/'"
   ]
  },
  {
   "cell_type": "code",
   "execution_count": null,
   "id": "committed-anime",
   "metadata": {},
   "outputs": [],
   "source": [
    "## Define folder of source image tiles: folders should have the following hierachy: */Category/Material/**.jpg\n",
    "NormalizedTiles = 'Tiles/Normalized'\n",
    "Sets = 'Tiles/Sets'\n",
    "TrainingSetDir = 'Tiles/Sets/Train'\n",
    "TestSetDir = 'Tiles/Sets/Test'"
   ]
  },
  {
   "cell_type": "code",
   "execution_count": null,
   "id": "endless-replication",
   "metadata": {},
   "outputs": [],
   "source": [
    "## Define positive and negative category\n",
    "PosCategory = 'KolonMet'\n",
    "NegCategory = 'ICCA'"
   ]
  },
  {
   "cell_type": "code",
   "execution_count": null,
   "id": "convertible-entry",
   "metadata": {},
   "outputs": [],
   "source": [
    "## Define lists\n",
    "PatientNo = []\n",
    "Category = []\n",
    "Tilename = []"
   ]
  },
  {
   "cell_type": "code",
   "execution_count": null,
   "id": "personalized-necklace",
   "metadata": {},
   "outputs": [],
   "source": [
    "## Ungroup the tables for each fold\n",
    "def ungroup_data_table(DataTable):\n",
    "\n",
    "    Tilenames_new = []\n",
    "    Tilenames_flatten = []\n",
    "    Category_new = []\n",
    "    PatientNo_new = []\n",
    "    n = 0\n",
    "\n",
    "    for i in DataTable['Tilenames']:\n",
    "        Tilenames_new.append(i)\n",
    "        for a in range(i.count(', ')+1):\n",
    "            PatientNo_new.append(DataTable.loc[n, 'PatientNo'])\n",
    "            Category_new.append(DataTable.loc[n, 'Category'])\n",
    "        n = n + 1\n",
    "\n",
    "    Tilenames_flatten = [inner for item in Tilenames_new for inner in ast.literal_eval(item)] \n",
    "    Ungrouped_DataTable = pd.DataFrame({'PatientNo': PatientNo_new, 'Category': Category_new, 'Tilenames': Tilenames_flatten, })\n",
    "    return Ungrouped_DataTable"
   ]
  },
  {
   "cell_type": "code",
   "execution_count": null,
   "id": "supported-morrison",
   "metadata": {},
   "outputs": [],
   "source": [
    "## Read Test Set Table\n",
    "TestTable = pd.read_csv(SSDDir+'/Tables/TestTable.csv')\n",
    "TestTableTileLevel = pd.read_csv(SSDDir+'/Tables/TestTableTileLevel.csv')"
   ]
  },
  {
   "cell_type": "code",
   "execution_count": null,
   "id": "hazardous-cartoon",
   "metadata": {},
   "outputs": [],
   "source": [
    "## Fixed Parameters\n",
    "num_classes = TestTable['Category'].nunique()\n",
    "if num_classes == 2:\n",
    "    num_classes = num_classes-1\n",
    "num_patients = len(TestTable.index)"
   ]
  },
  {
   "cell_type": "code",
   "execution_count": null,
   "id": "wound-religion",
   "metadata": {},
   "outputs": [],
   "source": [
    "## Variable Parameters\n",
    "img_height = 300\n",
    "img_width = 300\n",
    "IMAGE_SIZE = [img_height, img_width]"
   ]
  },
  {
   "cell_type": "code",
   "execution_count": null,
   "id": "greatest-hierarchy",
   "metadata": {},
   "outputs": [],
   "source": [
    "## Define Target Variable\n",
    "y = TestTable['Category']"
   ]
  },
  {
   "cell_type": "code",
   "execution_count": null,
   "id": "brief-ethics",
   "metadata": {},
   "outputs": [],
   "source": [
    "## Create instance of ImageDataGenerator\n",
    "idg_test = ImageDataGenerator(preprocessing_function=preprocess_input)"
   ]
  },
  {
   "cell_type": "code",
   "execution_count": null,
   "id": "chief-listing",
   "metadata": {},
   "outputs": [],
   "source": [
    "## Use flow from dataframe as iterator\n",
    "test_data_generator = idg_test.flow_from_dataframe(TestTableTileLevel, directory = TestSetDir,\n",
    "                                                   x_col = \"Tilenames\", y_col = \"Category\",\n",
    "                                                   batch_size = 64,\n",
    "                                                   target_size = (img_height, img_width),\n",
    "                                                   class_mode = 'binary', shuffle = False)"
   ]
  },
  {
   "cell_type": "code",
   "execution_count": null,
   "id": "welsh-mystery",
   "metadata": {},
   "outputs": [],
   "source": [
    "## Load final model\n",
    "MyModel = keras.models.load_model(test_dir+'/tuned_model_4.h5')"
   ]
  },
  {
   "cell_type": "code",
   "execution_count": null,
   "id": "willing-offer",
   "metadata": {},
   "outputs": [],
   "source": [
    "# Load final model and evaluate accuracy and loss on test set\n",
    "results = MyModel.evaluate(test_data_generator)\n",
    "results = dict(zip(MyModel.metrics_names,results))\n",
    "        \n",
    "print('Die Accuracy beträgt ' +str(results['accuracy'])+'.')\n",
    "print('Der Loss beträgt '+str(results['loss'])+'.')\n",
    "        \n",
    "tf.keras.backend.clear_session()"
   ]
  },
  {
   "cell_type": "code",
   "execution_count": null,
   "id": "ruled-contest",
   "metadata": {},
   "outputs": [],
   "source": [
    "## Write tile-level probalities of test set\n",
    "predictions = MyModel.predict(test_data_generator)"
   ]
  },
  {
   "cell_type": "code",
   "execution_count": null,
   "id": "received-debut",
   "metadata": {},
   "outputs": [],
   "source": [
    "## Read Tile and Patient-Cutoff\n",
    "Thresholds=loadtxt('/home/thomas/Projects/ICCAvsMETS/Tables/Thresholds_CV.csv', dtype=float, delimiter=',').astype(float)"
   ]
  },
  {
   "cell_type": "code",
   "execution_count": null,
   "id": "popular-concentrate",
   "metadata": {},
   "outputs": [],
   "source": [
    "## Find predicted class and append in list on tile level, use empiric threshold of 0.5\n",
    "predicted_class = []\n",
    "for i in predictions:\n",
    "    if i > 0.5:\n",
    "        predicted_class.append(PosCategory)\n",
    "    else:\n",
    "        predicted_class.append(NegCategory)"
   ]
  },
  {
   "cell_type": "code",
   "execution_count": null,
   "id": "labeled-celtic",
   "metadata": {},
   "outputs": [],
   "source": [
    "## Create Tile and Patient Level Prediction Tables\n",
    "PredTableTileLevel = TestTableTileLevel.copy()\n",
    "PredTableTileLevel['Predictions'] = predictions\n",
    "PredTableTileLevel['PredictedClass'] = predicted_class\n",
    "\n",
    "PredTablePatientLevel = PredTableTileLevel.groupby(['PatientNo', 'Category'])['Predictions'].agg(list).reset_index()\n",
    "PredTablePatientLevel['Predictions_mean'] = PredTablePatientLevel['Predictions'].apply(np.mean)"
   ]
  },
  {
   "cell_type": "code",
   "execution_count": null,
   "id": "together-economy",
   "metadata": {},
   "outputs": [],
   "source": [
    "## Find predicted class and append in list on patient level, use cross-validation adjusted threshold\n",
    "predictionsmean = PredTablePatientLevel['Predictions_mean']\n",
    "predicted_class2 = []\n",
    "for i in predictionsmean:\n",
    "    if i > Thresholds[1]:\n",
    "        predicted_class2.append(PosCategory)\n",
    "    else:\n",
    "        predicted_class2.append(NegCategory)\n",
    "PredTablePatientLevel['PredictedClass'] = predicted_class2"
   ]
  },
  {
   "cell_type": "code",
   "execution_count": null,
   "id": "bronze-strand",
   "metadata": {},
   "outputs": [],
   "source": [
    "##Bootstrapping on patient level\n",
    "n_iterations = 100\n",
    "stats = list()\n",
    "stats2 = list()\n",
    "accuracy_list1 = []\n",
    "sensitivity_list1 = []\n",
    "specificity_list1 = []\n",
    "ppv_list1 = []\n",
    "npv_list1 = []\n",
    "accuracy_list2 = []\n",
    "sensitivity_list2 = []\n",
    "specificity_list2 = []\n",
    "ppv_list2 = []\n",
    "npv_list2 = []\n",
    "\n",
    "mean_fpr = np.linspace(0, 1, 100)\n",
    "tprs = []\n",
    "tprs2 = []\n",
    "\n",
    "for i in range(n_iterations):\n",
    "    boot_subset_patient = resample(TestTable)\n",
    "    boot_subset_patient.reset_index(drop=True, inplace=True)\n",
    "    boot_subset = ungroup_data_table(boot_subset_patient)\n",
    "    boot_data_generator = idg_test.flow_from_dataframe(boot_subset, directory = TestSetDir,\n",
    "                                                   x_col = \"Tilenames\", y_col = \"Category\",\n",
    "                                                   batch_size = 64,\n",
    "                                                   target_size = (img_height, img_width),\n",
    "                                                   class_mode = 'binary', shuffle = False)\n",
    "    predictions = MyModel.predict(boot_data_generator)\n",
    "    fpr2, tpr2, thresholds2 = roc_curve(boot_subset['Category'], predictions, pos_label=PosCategory)\n",
    "    roc_auc = auc(fpr2, tpr2)\n",
    "    stats.append(roc_auc)\n",
    "    interp_tpr = np.interp(mean_fpr, fpr2, tpr2)\n",
    "    interp_tpr[0] = 0.0\n",
    "    tprs.append(interp_tpr)\n",
    "        \n",
    "    predicted_class = []\n",
    "    for i in predictions:\n",
    "        if i > 0.5:\n",
    "            predicted_class.append(PosCategory)\n",
    "        else:\n",
    "            predicted_class.append(NegCategory)\n",
    "    \n",
    "    boot_subset['Predictions'] = predictions\n",
    "    boot_subset['PredictedClass'] = predicted_class\n",
    "    \n",
    "    KolonMet_TileNo = boot_subset.loc[boot_subset['Category'] == 'KolonMet'].shape[0]\n",
    "    KolonMet_correct = boot_subset.loc[(boot_subset['Category'] == 'KolonMet') & (boot_subset['PredictedClass'] == 'KolonMet')].shape[0]\n",
    "    KolonMet_allPositive = boot_subset.loc[boot_subset['PredictedClass'] == 'KolonMet'].shape[0]\n",
    "    KolonMet_allNegative = boot_subset.loc[boot_subset['PredictedClass'] == 'ICCA'].shape[0]\n",
    "    KolonMet_correctneg = boot_subset.loc[(boot_subset['Category'] == 'ICCA') & (boot_subset['PredictedClass'] == 'ICCA')].shape[0]\n",
    "\n",
    "    ICCA_TileNo = boot_subset.loc[boot_subset['Category'] == 'ICCA'].shape[0]\n",
    "    ICCA_correct = boot_subset.loc[(boot_subset['Category'] == 'ICCA') & (boot_subset['PredictedClass'] == 'ICCA')].shape[0]\n",
    "\n",
    "    accuracy_list1.append(((KolonMet_correct+ICCA_correct)/(KolonMet_TileNo+ICCA_TileNo))*100)\n",
    "    sensitivity_list1.append((KolonMet_correct/KolonMet_TileNo)*100)\n",
    "    specificity_list1.append((ICCA_correct/ICCA_TileNo)*100)\n",
    "    ppv_list1.append((KolonMet_correct/KolonMet_allPositive)*100)\n",
    "    npv_list1.append((KolonMet_correctneg/KolonMet_allNegative)*100)\n",
    "            \n",
    "    TableCopy = boot_subset.copy()\n",
    "    TableCopy = TableCopy.groupby(['PatientNo', 'Category'])['Predictions'].agg(list).reset_index()\n",
    "    TableCopy['Predictions_mean'] = TableCopy['Predictions'].apply(np.mean)\n",
    "    fpr3, tpr3, thresholds3 = roc_curve(TableCopy['Category'], TableCopy['Predictions_mean'], pos_label=PosCategory)\n",
    "    roc_auc2 = auc(fpr3, tpr3)\n",
    "    stats2.append(roc_auc2)\n",
    "    interp_tpr2 = np.interp(mean_fpr, fpr3, tpr3)\n",
    "    interp_tpr2[0] = 0.0\n",
    "    tprs2.append(interp_tpr2)\n",
    "    \n",
    "    predicted_class2 = []\n",
    "    predictionsmean = TableCopy['Predictions_mean']\n",
    "    for i in predictionsmean:\n",
    "        if i > Thresholds[1]:\n",
    "            predicted_class2.append(PosCategory)\n",
    "        else:\n",
    "            predicted_class2.append(NegCategory)\n",
    "    TableCopy['PredictedClass'] = predicted_class2\n",
    "    \n",
    "    KolonMet_PatientNo = TableCopy.loc[TableCopy['Category'] == 'KolonMet'].shape[0]\n",
    "    KolonMet_correct = TableCopy.loc[(TableCopy['Category'] == 'KolonMet') & (TableCopy['PredictedClass'] == 'KolonMet')].shape[0]\n",
    "    KolonMet_allPositive = TableCopy.loc[TableCopy['PredictedClass'] == 'KolonMet'].shape[0]\n",
    "    KolonMet_allNegative = TableCopy.loc[TableCopy['PredictedClass'] == 'ICCA'].shape[0]\n",
    "    KolonMet_correctneg = TableCopy.loc[(TableCopy['Category'] == 'ICCA') & (TableCopy['PredictedClass'] == 'ICCA')].shape[0]\n",
    "\n",
    "    ICCA_PatientNo = TableCopy.loc[TableCopy['Category'] == 'ICCA'].shape[0]\n",
    "    ICCA_correct = TableCopy.loc[(TableCopy['Category'] == 'ICCA') & (TableCopy['PredictedClass'] == 'ICCA')].shape[0]\n",
    "\n",
    "    accuracy_list2.append(((KolonMet_correct+ICCA_correct)/(KolonMet_PatientNo+ICCA_PatientNo))*100)\n",
    "    sensitivity_list2.append((KolonMet_correct/KolonMet_PatientNo)*100)\n",
    "    specificity_list2.append((ICCA_correct/ICCA_PatientNo)*100)\n",
    "    ppv_list2.append((KolonMet_correct/KolonMet_allPositive)*100)\n",
    "    npv_list2.append((KolonMet_correctneg/KolonMet_allNegative)*100)\n",
    "\n",
    "## Calculate AUC Confidence Interval\n",
    "alpha = 0.95\n",
    "p = ((1.0-alpha)/2.0) * 100\n",
    "lower = max(0.0, np.percentile(stats, p))\n",
    "p = (alpha+((1.0-alpha)/2.0)) * 100\n",
    "upper = min(1.0, np.percentile(stats, p))\n",
    "\n",
    "p = ((1.0-alpha)/2.0) * 100\n",
    "lower2 = max(0.0, np.percentile(stats2, p))\n",
    "p = (alpha+((1.0-alpha)/2.0)) * 100\n",
    "upper2 = min(1.0, np.percentile(stats2, p))\n",
    "\n",
    "## Calculate ROC curve confidence boundaries\n",
    "alpha = 0.95\n",
    "p = ((1.0-alpha)/2.0) * 100\n",
    "roc_lower = np.percentile(tprs, p, axis=0)\n",
    "p = (alpha+((1.0-alpha)/2.0)) * 100\n",
    "roc_upper = np.percentile(tprs, p, axis=0)\n",
    "\n",
    "alpha = 0.95\n",
    "p = ((1.0-alpha)/2.0) * 100\n",
    "roc_lower2 = np.percentile(tprs2, p, axis=0)\n",
    "p = (alpha+((1.0-alpha)/2.0)) * 100\n",
    "roc_upper2 = np.percentile(tprs2, p, axis=0)"
   ]
  },
  {
   "cell_type": "code",
   "execution_count": null,
   "id": "charitable-harrison",
   "metadata": {},
   "outputs": [],
   "source": [
    "##ROC auf Tile-Level\n",
    "fpr2, tpr2, thresholds2 = roc_curve(PredTableTileLevel['Category'], PredTableTileLevel['Predictions'], pos_label=PosCategory)\n",
    "auc_tile = auc(fpr2, tpr2)\n",
    "plt.figure(2)\n",
    "plt.plot([0, 1], [0, 1], 'k--', linewidth = 1.0)\n",
    "plt.plot(fpr2, tpr2, linewidth = 1.0, label='AUC = ' + str(format((round(auc_tile,3)),'.3f')), zorder=3)\n",
    "plt.fill_between(mean_fpr, roc_lower, roc_upper, color='moccasin',\n",
    "                 label='95% CI ' +str(format((round((lower),3)),'.3f')) + '-' + str(format((round((upper),3)),'.3f')), zorder=1)\n",
    "plt.xlabel('False positive rate', fontsize=12, fontweight='bold')\n",
    "plt.ylabel('True positive rate', fontsize=12, fontweight='bold')\n",
    "plt.tick_params(axis='both', which='major', labelsize=10)\n",
    "plt.tick_params(axis='both', which='minor', labelsize=10)\n",
    "plt.xlim(0,1)\n",
    "plt.ylim(0,1)\n",
    "plt.gca().set_aspect('equal', adjustable='box')\n",
    "leg = plt.legend(loc='lower right', fontsize=8)\n",
    "leg.get_frame().set_linewidth(0.0)\n",
    "plt.gca().spines['left'].set_zorder(2)\n",
    "plt.gca().spines['top'].set_zorder(2)\n",
    "plt.savefig(FiguresDir+'ROC_Test_TileLV.png', dpi=1200, bbox_inches='tight')\n",
    "plt.show()\n",
    "print('Die AUC auf Tile-Level beträgt '+str(round(auc_tile,2))+'.')"
   ]
  },
  {
   "cell_type": "code",
   "execution_count": null,
   "id": "disciplinary-credits",
   "metadata": {},
   "outputs": [],
   "source": [
    "## Determine optimal threshold on tile level\n",
    "optimal_idx = np.argmax(tpr2 - fpr2)\n",
    "optimal_threshold_TileLevel = thresholds2[optimal_idx]"
   ]
  },
  {
   "cell_type": "code",
   "execution_count": null,
   "id": "complete-classification",
   "metadata": {},
   "outputs": [],
   "source": [
    "## Plot ROC-Curve for Patient Level\n",
    "fpr, tpr, thresholds = roc_curve(PredTablePatientLevel['Category'], PredTablePatientLevel['Predictions_mean'], pos_label=PosCategory)\n",
    "auc_patient = auc(fpr, tpr)\n",
    "plt.figure(1)\n",
    "plt.plot([0, 1], [0, 1], 'k--', linewidth = 1.0)\n",
    "plt.plot(fpr, tpr, linewidth = 1.0, label='AUC = ' + str(format((round(auc_patient,3)),'.3f')), zorder=3)\n",
    "plt.fill_between(mean_fpr, roc_lower2, roc_upper2, color='moccasin',\n",
    "                 label='95% CI ' + str(format((round((lower2),3)),'.3f')) + '-' + str(format((round((upper2),3)),'.3f')), zorder=1)\n",
    "plt.xlabel('False positive rate', fontsize=12, fontweight='bold')\n",
    "plt.ylabel('True positive rate', fontsize=12, fontweight='bold')\n",
    "plt.tick_params(axis='both', which='major', labelsize=10)\n",
    "plt.tick_params(axis='both', which='minor', labelsize=10)\n",
    "plt.xlim(0,1)\n",
    "plt.ylim(0,1)\n",
    "plt.gca().set_aspect('equal', adjustable='box')\n",
    "leg = plt.legend(loc='lower right', fontsize=8)\n",
    "leg.get_frame().set_linewidth(0.0)\n",
    "plt.gca().spines['left'].set_zorder(2)\n",
    "plt.gca().spines['top'].set_zorder(2)\n",
    "plt.savefig(FiguresDir+'ROC_Test_PatientLV.png', dpi=1200, bbox_inches='tight')\n",
    "plt.show()\n",
    "print('Die AUC auf Patient-Level beträgt '+str(round(auc_patient,2))+'.')"
   ]
  },
  {
   "cell_type": "code",
   "execution_count": null,
   "id": "technological-horse",
   "metadata": {},
   "outputs": [],
   "source": [
    "## Determine optimal threshold on patient level\n",
    "optimal_idx = np.argmax(tpr - fpr)\n",
    "optimal_threshold_PatientLevel = thresholds[optimal_idx]"
   ]
  },
  {
   "cell_type": "code",
   "execution_count": null,
   "id": "indian-blank",
   "metadata": {},
   "outputs": [],
   "source": [
    "## Save thresholds\n",
    "Thresholds_Test = np.asarray([optimal_threshold_TileLevel, optimal_threshold_PatientLevel])\n",
    "savetxt('/home/thomas/Projects/ICCAvsMETS/Tables/Thresholds_Test.csv', Thresholds_Test, delimiter=',')"
   ]
  },
  {
   "cell_type": "code",
   "execution_count": null,
   "id": "congressional-technology",
   "metadata": {},
   "outputs": [],
   "source": [
    "# Generate confusion matrix on patient level (absolute)\n",
    "skplt.metrics.plot_confusion_matrix(PredTablePatientLevel['Category'], PredTablePatientLevel['PredictedClass'], title = ' ', figsize = (4,3),normalize=False)\n",
    "plt.xlabel('Predicted', fontweight='bold')\n",
    "plt.ylabel('Ground Truth', fontweight='bold')\n",
    "locs, labels = plt.xticks() \n",
    "plt.xticks(locs,['iCCA', 'CRM'])\n",
    "locs, labels = plt.yticks() \n",
    "plt.yticks(locs,['iCCA', 'CRM'])\n",
    "plt.savefig(FiguresDir+'CoMa_Test_PatientLV_abs.png', dpi=1200, bbox_inches='tight')\n",
    "plt.show()"
   ]
  },
  {
   "cell_type": "code",
   "execution_count": null,
   "id": "smaller-cotton",
   "metadata": {},
   "outputs": [],
   "source": [
    "# Generate confusion matrix on patient level (relative)\n",
    "skplt.metrics.plot_confusion_matrix(PredTablePatientLevel['Category'], PredTablePatientLevel['PredictedClass'], title = ' ', figsize = (4,3),normalize=True)\n",
    "plt.xlabel('Predicted', fontweight='bold')\n",
    "plt.ylabel('Ground Truth', fontweight='bold')\n",
    "locs, labels = plt.xticks() \n",
    "plt.xticks(locs,['iCCA', 'CRM'])\n",
    "locs, labels = plt.yticks() \n",
    "plt.yticks(locs,['iCCA', 'CRM'])\n",
    "plt.savefig(FiguresDir+'CoMa_Test_PatientLV_rel.png', dpi=1200, bbox_inches='tight')\n",
    "plt.show()"
   ]
  },
  {
   "cell_type": "code",
   "execution_count": null,
   "id": "molecular-bikini",
   "metadata": {},
   "outputs": [],
   "source": [
    "# Generate confusion matrix on tile level (absolute)\n",
    "skplt.metrics.plot_confusion_matrix(PredTableTileLevel['Category'], PredTableTileLevel['PredictedClass'], title = ' ', figsize = (4,3), normalize=False)\n",
    "plt.xlabel('Predicted', fontweight='bold')\n",
    "plt.ylabel('Ground Truth', fontweight='bold')\n",
    "locs, labels = plt.xticks() \n",
    "plt.xticks(locs,['iCCA', 'CRM'])\n",
    "locs, labels = plt.yticks() \n",
    "plt.yticks(locs,['iCCA', 'CRM'])\n",
    "plt.savefig(FiguresDir+'CoMa_Test_TileLV_abs.png', dpi=1200, bbox_inches='tight')\n",
    "plt.show()"
   ]
  },
  {
   "cell_type": "code",
   "execution_count": null,
   "id": "attached-basin",
   "metadata": {},
   "outputs": [],
   "source": [
    "# Generate confusion matrix on tile level (relative)\n",
    "skplt.metrics.plot_confusion_matrix(PredTableTileLevel['Category'], PredTableTileLevel['PredictedClass'], title = ' ', figsize = (4,3), normalize=True)\n",
    "plt.xlabel('Predicted', fontweight='bold')\n",
    "plt.ylabel('Ground Truth', fontweight='bold')\n",
    "locs, labels = plt.xticks() \n",
    "plt.xticks(locs,['iCCA', 'CRM'])\n",
    "locs, labels = plt.yticks() \n",
    "plt.yticks(locs,['iCCA', 'CRM'])\n",
    "plt.savefig(FiguresDir+'CoMa_Test_TileLV_rel.png', dpi=1200, bbox_inches='tight')\n",
    "plt.show()"
   ]
  },
  {
   "cell_type": "code",
   "execution_count": null,
   "id": "married-surrey",
   "metadata": {},
   "outputs": [],
   "source": [
    "## Save prediction tables\n",
    "PredTablePatientLevel.to_csv('/home/thomas/Projects/ICCAvsMETS/Tables/PredTablePatientLevel.csv', index=False)\n",
    "PredTableTileLevel.to_csv('/home/thomas/Projects/ICCAvsMETS/Tables/PredTableTileLevel.csv', index=False)"
   ]
  },
  {
   "cell_type": "code",
   "execution_count": null,
   "id": "isolated-peoples",
   "metadata": {},
   "outputs": [],
   "source": [
    "##Compute metrics on tile level. Arbritarly, colorectal metastasis is defined as disease.  \n",
    "Metrics_TileLevel_Test = pd.DataFrame(columns=['Name', 'Accuracy','Sensitivity','Specificity','PPV','NPV'])\n",
    "names = ['Original','Lower bound (95%CI)', 'Upper bound (95%CI)']\n",
    "Metrics_TileLevel_Test['Name'] = names\n",
    "accuracy=[]\n",
    "sensitivity=[]\n",
    "specificity=[]\n",
    "ppv =[]\n",
    "npv=[]\n",
    "\n",
    "KolonMet_TileNo = PredTableTileLevel.loc[PredTableTileLevel['Category'] == 'KolonMet'].shape[0]\n",
    "KolonMet_correct = PredTableTileLevel.loc[(PredTableTileLevel['Category'] == 'KolonMet') & (PredTableTileLevel['PredictedClass'] == 'KolonMet')].shape[0]\n",
    "KolonMet_allPositive = PredTableTileLevel.loc[PredTableTileLevel['PredictedClass'] == 'KolonMet'].shape[0]\n",
    "KolonMet_allNegative = PredTableTileLevel.loc[PredTableTileLevel['PredictedClass'] == 'ICCA'].shape[0]\n",
    "KolonMet_correctneg = PredTableTileLevel.loc[(PredTableTileLevel['Category'] == 'ICCA') & (PredTableTileLevel['PredictedClass'] == 'ICCA')].shape[0]\n",
    "\n",
    "ICCA_TileNo = PredTableTileLevel.loc[PredTableTileLevel['Category'] == 'ICCA'].shape[0]\n",
    "ICCA_correct = PredTableTileLevel.loc[(PredTableTileLevel['Category'] == 'ICCA') & (PredTableTileLevel['PredictedClass'] == 'ICCA')].shape[0]\n",
    "\n",
    "accuracy.append(np.round(((KolonMet_correct+ICCA_correct)/(KolonMet_TileNo+ICCA_TileNo))*100,3))\n",
    "sensitivity.append(np.round((KolonMet_correct/KolonMet_TileNo)*100,3))\n",
    "specificity.append(np.round((ICCA_correct/ICCA_TileNo)*100,3))\n",
    "ppv.append(np.round((KolonMet_correct/KolonMet_allPositive)*100,3))\n",
    "npv.append(np.round((KolonMet_correctneg/KolonMet_allNegative)*100,3))\n",
    "\n",
    "alpha = 0.95\n",
    "p = ((1.0-alpha)/2.0) * 100\n",
    "p1 = (alpha+((1.0-alpha)/2.0)) * 100\n",
    "\n",
    "accuracy.append(np.round(max(0.0, np.percentile(accuracy_list1, p)),3))\n",
    "sensitivity.append(np.round(max(0.0, np.percentile(sensitivity_list1, p)),3))\n",
    "specificity.append(np.round(max(0.0, np.percentile(specificity_list1, p)),3))\n",
    "ppv.append(np.round(max(0.0, np.percentile(ppv_list1, p)),3))\n",
    "npv.append(np.round(max(0.0, np.percentile(npv_list1, p)),3))\n",
    "\n",
    "accuracy.append(np.round(min(100.0, np.percentile(accuracy_list1, p1)),3))\n",
    "sensitivity.append(np.round(min(100.0, np.percentile(sensitivity_list1, p1)),3))\n",
    "specificity.append(np.round(min(100.0, np.percentile(specificity_list1, p1)),3))\n",
    "ppv.append(np.round(min(100.0,np.percentile(ppv_list1, p1)),3))\n",
    "npv.append(np.round(min(100.0, np.percentile(npv_list1, p1)),3))\n",
    "\n",
    "Metrics_TileLevel_Test['Accuracy']=accuracy\n",
    "Metrics_TileLevel_Test['Sensitivity']=sensitivity\n",
    "Metrics_TileLevel_Test['Specificity']=specificity\n",
    "Metrics_TileLevel_Test['PPV']=ppv\n",
    "Metrics_TileLevel_Test['NPV']=npv"
   ]
  },
  {
   "cell_type": "code",
   "execution_count": null,
   "id": "earlier-bobby",
   "metadata": {},
   "outputs": [],
   "source": [
    "## Save tile level metrics \n",
    "Metrics_TileLevel_Test.to_csv('/home/thomas/Projects/ICCAvsMETS/Tables/Metrics_TileLevel_Test.csv', index=False)"
   ]
  },
  {
   "cell_type": "code",
   "execution_count": null,
   "id": "cubic-organ",
   "metadata": {},
   "outputs": [],
   "source": [
    "## Save bootstrap lists as pandas dataframes for reproducibility, on tile level\n",
    "Bootstrap_internal_TileLevel = pd.DataFrame(columns=['Accuracy', 'Sensitivity','Specificity','PPV','NPV', 'AUC'])\n",
    "Bootstrap_internal_TileLevel['Accuracy']=accuracy_list1\n",
    "Bootstrap_internal_TileLevel['Sensitivity']=sensitivity_list1\n",
    "Bootstrap_internal_TileLevel['Specificity']=specificity_list1\n",
    "Bootstrap_internal_TileLevel['PPV']=ppv_list1\n",
    "Bootstrap_internal_TileLevel['NPV']=npv_list1\n",
    "Bootstrap_internal_TileLevel['AUC']=stats\n",
    "\n",
    "Bootstrap_internal_TileLevel.to_csv('/home/thomas/Projects/ICCAvsMETS/Tables/Bootstrap_internal_TileLevel.csv', index=False)"
   ]
  },
  {
   "cell_type": "code",
   "execution_count": null,
   "id": "multiple-funds",
   "metadata": {},
   "outputs": [],
   "source": [
    "##Compute metrics on patient level. Arbritarly, colorectal metastasis is defined as disease. \n",
    "Metrics_PatientLevel_Test = pd.DataFrame(columns=['Name', 'Accuracy','Sensitivity','Specificity','PPV','NPV'])\n",
    "names = ['Original','Lower bound (95%CI)', 'Upper bound (95%CI)']\n",
    "Metrics_PatientLevel_Test['Name'] = names\n",
    "accuracy=[]\n",
    "sensitivity=[]\n",
    "specificity=[]\n",
    "ppv =[]\n",
    "npv=[]\n",
    "\n",
    "KolonMet_PatientNo = PredTablePatientLevel.loc[PredTablePatientLevel['Category'] == 'KolonMet'].shape[0]\n",
    "KolonMet_correct = PredTablePatientLevel.loc[(PredTablePatientLevel['Category'] == 'KolonMet') & (PredTablePatientLevel['PredictedClass'] == 'KolonMet')].shape[0]\n",
    "KolonMet_allPositive = PredTablePatientLevel.loc[PredTablePatientLevel['PredictedClass'] == 'KolonMet'].shape[0]\n",
    "KolonMet_allNegative = PredTablePatientLevel.loc[PredTablePatientLevel['PredictedClass'] == 'ICCA'].shape[0]\n",
    "KolonMet_correctneg = PredTablePatientLevel.loc[(PredTablePatientLevel['Category'] == 'ICCA') & (PredTablePatientLevel['PredictedClass'] == 'ICCA')].shape[0]\n",
    "\n",
    "ICCA_PatientNo = PredTablePatientLevel.loc[PredTablePatientLevel['Category'] == 'ICCA'].shape[0]\n",
    "ICCA_correct = PredTablePatientLevel.loc[(PredTablePatientLevel['Category'] == 'ICCA') & (PredTablePatientLevel['PredictedClass'] == 'ICCA')].shape[0]\n",
    "\n",
    "accuracy.append(np.round(((KolonMet_correct+ICCA_correct)/(KolonMet_PatientNo+ICCA_PatientNo))*100,3))\n",
    "sensitivity.append(np.round((KolonMet_correct/KolonMet_PatientNo)*100,3))\n",
    "specificity.append(np.round((ICCA_correct/ICCA_PatientNo)*100,3))\n",
    "ppv.append(np.round((KolonMet_correct/KolonMet_allPositive)*100,3))\n",
    "npv.append(np.round((KolonMet_correctneg/KolonMet_allNegative)*100,3))\n",
    "\n",
    "alpha = 0.95\n",
    "p = ((1.0-alpha)/2.0) * 100\n",
    "p1 = (alpha+((1.0-alpha)/2.0)) * 100\n",
    "\n",
    "accuracy.append(np.round(max(0.0, np.percentile(accuracy_list2, p)),3))\n",
    "sensitivity.append(np.round(max(0.0, np.percentile(sensitivity_list2, p)),3))\n",
    "specificity.append(np.round(max(0.0, np.percentile(specificity_list2, p)),3))\n",
    "ppv.append(np.round(max(0.0, np.percentile(ppv_list2, p)),3))\n",
    "npv.append(np.round(max(0.0, np.percentile(npv_list2, p)),3))\n",
    "\n",
    "accuracy.append(np.round(min(100.0, np.percentile(accuracy_list2, p1)),3))\n",
    "sensitivity.append(np.round(min(100.0, np.percentile(sensitivity_list2, p1)),3))\n",
    "specificity.append(np.round(min(100.0, np.percentile(specificity_list2, p1)),3))\n",
    "ppv.append(np.round(min(100.0,np.percentile(ppv_list2, p1)),3))\n",
    "npv.append(np.round(min(100.0, np.percentile(npv_list2, p1)),3))\n",
    "\n",
    "Metrics_PatientLevel_Test['Accuracy']=accuracy\n",
    "Metrics_PatientLevel_Test['Sensitivity']=sensitivity\n",
    "Metrics_PatientLevel_Test['Specificity']=specificity\n",
    "Metrics_PatientLevel_Test['PPV']=ppv\n",
    "Metrics_PatientLevel_Test['NPV']=npv"
   ]
  },
  {
   "cell_type": "code",
   "execution_count": null,
   "id": "least-poster",
   "metadata": {},
   "outputs": [],
   "source": [
    "## Save tile level metrics\n",
    "Metrics_PatientLevel_Test.to_csv('/home/thomas/Projects/ICCAvsMETS/Tables/Metrics_PatientLevel_Test.csv', index=False)"
   ]
  },
  {
   "cell_type": "code",
   "execution_count": null,
   "id": "unable-platinum",
   "metadata": {},
   "outputs": [],
   "source": [
    "## Save bootstrap lists as Pandas dataframes for reproducibility, on patient level\n",
    "Bootstrap_internal_PatientLevel = pd.DataFrame(columns=['Accuracy', 'Sensitivity','Specificity','PPV','NPV', 'AUC'])\n",
    "Bootstrap_internal_PatientLevel['Accuracy']=accuracy_list2\n",
    "Bootstrap_internal_PatientLevel['Sensitivity']=sensitivity_list2\n",
    "Bootstrap_internal_PatientLevel['Specificity']=specificity_list2\n",
    "Bootstrap_internal_PatientLevel['PPV']=ppv_list2\n",
    "Bootstrap_internal_PatientLevel['NPV']=npv_list2\n",
    "Bootstrap_internal_PatientLevel['AUC']=stats2\n",
    "\n",
    "Bootstrap_internal_PatientLevel.to_csv('/home/thomas/Projects/ICCAvsMETS/Tables/Bootstrap_internal_PatientLevel.csv', index=False)"
   ]
  }
 ],
 "metadata": {
  "kernelspec": {
   "display_name": "TF2.5",
   "language": "python",
   "name": "tf2.5"
  },
  "language_info": {
   "codemirror_mode": {
    "name": "ipython",
    "version": 3
   },
   "file_extension": ".py",
   "mimetype": "text/x-python",
   "name": "python",
   "nbconvert_exporter": "python",
   "pygments_lexer": "ipython3",
   "version": "3.6.9"
  }
 },
 "nbformat": 4,
 "nbformat_minor": 5
}
